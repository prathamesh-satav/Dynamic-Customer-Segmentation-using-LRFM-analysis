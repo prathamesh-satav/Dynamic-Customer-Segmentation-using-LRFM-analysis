{
 "cells": [
  {
   "cell_type": "markdown",
   "id": "faaabaa8",
   "metadata": {},
   "source": [
    "## Dynamic Customer Segmentation using LRFMS & Time Series Clustering\n",
    "This notebook implements the methodology described in the research paper 'A dynamic customer segmentation approach by combining LRFMS and multivariate time series clustering'. We will use a real-world transaction dataset to segment customers based on their behavior over time.\n",
    "\n",
    "###  Project Workflow:\n",
    "* **Setup & Data Loading:** Import libraries and load the datasets.\n",
    "\n",
    "* **Data Preparation:** Merge and clean the data to create an analytical base table.\n",
    "\n",
    "* **Time Series Aggregation:** Convert the transaction log into a time series format for each customer.\n",
    "\n",
    "LRFMS Feature Engineering: Calculate the Length, Recency, Frequency, Monetary, and Satisfaction metrics for each time period.\n",
    "\n",
    "Multivariate Time Series Clustering: Apply clustering algorithms to segment the customers.\n",
    "\n",
    "Analysis & Visualization: Analyze the resulting clusters and visualize their behavior."
   ]
  },
  {
   "cell_type": "markdown",
   "id": "92416757",
   "metadata": {},
   "source": [
    "Step 1: Setup & Data Loading\n",
    "Explanation\n",
    "Before we begin, we need to set up our environment. This involves two parts:\n",
    "\n",
    "Installing Libraries: We need tslearn, a powerful library specifically designed for time series analysis and clustering in Python. We install it quietly using !pip install tslearn -q.\n",
    "\n",
    "Importing Packages: We import pandas and numpy for data manipulation, plotly for creating interactive visualizations, and key components from sklearn and tslearn for our machine learning tasks.\n",
    "\n",
    "Finally, we load the three CSV files (Transactions_Cleaned.csv, CustomerDemographic_Cleaned.csv, CustomerAddress_Cleaned.csv) into pandas DataFrames, which are essentially tables that make the data easy to work with. A try-except block is used to handle potential errors if the files aren't found."
   ]
  },
  {
   "cell_type": "code",
   "execution_count": 3,
   "id": "0c81f67e",
   "metadata": {},
   "outputs": [
    {
     "name": "stdout",
     "output_type": "stream",
     "text": [
      "Requirement already satisfied: tslearn in c:\\users\\satav\\appdata\\local\\programs\\python\\python310\\lib\\site-packages (0.6.4)\n",
      "Requirement already satisfied: scikit-learn<1.7,>=1.3.2 in c:\\users\\satav\\appdata\\local\\programs\\python\\python310\\lib\\site-packages (from tslearn) (1.6.1)\n",
      "Requirement already satisfied: numpy<2.3,>=1.24.3 in c:\\users\\satav\\appdata\\local\\programs\\python\\python310\\lib\\site-packages (from tslearn) (1.26.4)\n",
      "Requirement already satisfied: scipy<1.17,>=1.10.1 in c:\\users\\satav\\appdata\\local\\programs\\python\\python310\\lib\\site-packages (from tslearn) (1.15.3)\n",
      "Requirement already satisfied: numba<0.62,>=0.58.1 in c:\\users\\satav\\appdata\\local\\programs\\python\\python310\\lib\\site-packages (from tslearn) (0.61.2)\n",
      "Requirement already satisfied: joblib<1.6,>=0.12 in c:\\users\\satav\\appdata\\local\\programs\\python\\python310\\lib\\site-packages (from tslearn) (1.5.2)\n",
      "Requirement already satisfied: llvmlite<0.45,>=0.44.0dev0 in c:\\users\\satav\\appdata\\local\\programs\\python\\python310\\lib\\site-packages (from numba<0.62,>=0.58.1->tslearn) (0.44.0)\n",
      "Requirement already satisfied: threadpoolctl>=3.1.0 in c:\\users\\satav\\appdata\\local\\programs\\python\\python310\\lib\\site-packages (from scikit-learn<1.7,>=1.3.2->tslearn) (3.6.0)\n",
      "Note: you may need to restart the kernel to use updated packages.\n"
     ]
    },
    {
     "name": "stderr",
     "output_type": "stream",
     "text": [
      "\n",
      "[notice] A new release of pip is available: 24.0 -> 25.2\n",
      "[notice] To update, run: python.exe -m pip install --upgrade pip\n",
      "c:\\Users\\satav\\AppData\\Local\\Programs\\Python\\Python310\\lib\\site-packages\\tslearn\\bases\\bases.py:15: UserWarning: h5py not installed, hdf5 features will not be supported.\n",
      "Install h5py to use hdf5 features: http://docs.h5py.org/\n",
      "  warn(h5py_msg)\n"
     ]
    },
    {
     "name": "stdout",
     "output_type": "stream",
     "text": [
      "All datasets loaded successfully!\n"
     ]
    }
   ],
   "source": [
    "%pip install tslearn\n",
    "\n",
    "import pandas as pd\n",
    "import numpy as np\n",
    "from datetime import datetime\n",
    "\n",
    "# For clustering and evaluation\n",
    "import tslearn\n",
    "from tslearn.clustering import TimeSeriesKMeans\n",
    "from tslearn.preprocessing import TimeSeriesScalerMinMax\n",
    "from sklearn.metrics import silhouette_score\n",
    "\n",
    "# For visualization\n",
    "import plotly.graph_objects as go\n",
    "import plotly.express as px\n",
    "\n",
    "# --- Load the Datasets ---\n",
    "try:\n",
    "    transactions_df = pd.read_csv('Transactions_Cleaned.csv')\n",
    "    demographics_df = pd.read_csv('CustomerDemographic_Cleaned.csv')\n",
    "    address_df = pd.read_csv('CustomerAddress_Cleaned.csv')\n",
    "    print(\"All datasets loaded successfully!\")\n",
    "except FileNotFoundError as e:\n",
    "    print(f\"Error loading files: {e}. Make sure the CSVs are in the current directory.\")"
   ]
  },
  {
   "cell_type": "markdown",
   "id": "aebd0b7a",
   "metadata": {},
   "source": [
    "Step 2: Data Preparation\n",
    "Explanation\n",
    "Our data is currently spread across three separate files. To analyze it effectively, we need to combine it into a single, master table using pd.merge().\n",
    "\n",
    "We will then select only the columns needed for our LRFM analysis (customer_id, transaction_date, list_price). This clean, focused table is our Analytical Base Table (ABT)."
   ]
  },
  {
   "cell_type": "code",
   "execution_count": 4,
   "id": "9adc3097",
   "metadata": {},
   "outputs": [
    {
     "name": "stdout",
     "output_type": "stream",
     "text": [
      "Data preparation complete. Here is a preview of the Analytical Base Table:\n"
     ]
    },
    {
     "data": {
      "text/html": [
       "<div>\n",
       "<style scoped>\n",
       "    .dataframe tbody tr th:only-of-type {\n",
       "        vertical-align: middle;\n",
       "    }\n",
       "\n",
       "    .dataframe tbody tr th {\n",
       "        vertical-align: top;\n",
       "    }\n",
       "\n",
       "    .dataframe thead th {\n",
       "        text-align: right;\n",
       "    }\n",
       "</style>\n",
       "<table border=\"1\" class=\"dataframe\">\n",
       "  <thead>\n",
       "    <tr style=\"text-align: right;\">\n",
       "      <th></th>\n",
       "      <th>customer_id</th>\n",
       "      <th>transaction_date</th>\n",
       "      <th>monetary_value</th>\n",
       "    </tr>\n",
       "  </thead>\n",
       "  <tbody>\n",
       "    <tr>\n",
       "      <th>0</th>\n",
       "      <td>2950</td>\n",
       "      <td>2017-02-25</td>\n",
       "      <td>71.49</td>\n",
       "    </tr>\n",
       "    <tr>\n",
       "      <th>1</th>\n",
       "      <td>3120</td>\n",
       "      <td>2017-05-21</td>\n",
       "      <td>2091.47</td>\n",
       "    </tr>\n",
       "    <tr>\n",
       "      <th>2</th>\n",
       "      <td>402</td>\n",
       "      <td>2017-10-16</td>\n",
       "      <td>1793.43</td>\n",
       "    </tr>\n",
       "    <tr>\n",
       "      <th>3</th>\n",
       "      <td>3135</td>\n",
       "      <td>2017-08-31</td>\n",
       "      <td>1198.46</td>\n",
       "    </tr>\n",
       "    <tr>\n",
       "      <th>4</th>\n",
       "      <td>787</td>\n",
       "      <td>2017-10-01</td>\n",
       "      <td>1765.30</td>\n",
       "    </tr>\n",
       "  </tbody>\n",
       "</table>\n",
       "</div>"
      ],
      "text/plain": [
       "   customer_id transaction_date  monetary_value\n",
       "0         2950       2017-02-25           71.49\n",
       "1         3120       2017-05-21         2091.47\n",
       "2          402       2017-10-16         1793.43\n",
       "3         3135       2017-08-31         1198.46\n",
       "4          787       2017-10-01         1765.30"
      ]
     },
     "execution_count": 4,
     "metadata": {},
     "output_type": "execute_result"
    }
   ],
   "source": [
    "# Merge datasets to get a master table\n",
    "merged_df = pd.merge(transactions_df, demographics_df, on='customer_id', how='left')\n",
    "master_df = pd.merge(merged_df, address_df, on='customer_id', how='left')\n",
    "\n",
    "# Convert transaction_date to datetime\n",
    "master_df['transaction_date'] = pd.to_datetime(master_df['transaction_date'])\n",
    "\n",
    "# Create the final analytical base table for LRFM\n",
    "abt = master_df[['customer_id', 'transaction_date', 'list_price']]\n",
    "abt = abt.rename(columns={'list_price': 'monetary_value'})\n",
    "abt.dropna(inplace=True)\n",
    "\n",
    "print(\"Data preparation complete. Here is a preview of the Analytical Base Table:\")\n",
    "abt.head()"
   ]
  },
  {
   "cell_type": "markdown",
   "id": "b348e924",
   "metadata": {},
   "source": [
    "Step 3: Time Series Aggregation\n",
    "Explanation\n",
    "The LRFM model analyzes behavior over time. We convert our transaction log into a time series by grouping data into monthly bins using .resample('M'). For each customer in each month, we calculate:\n",
    "\n",
    "frequency: The count of transactions.\n",
    "\n",
    "monetary: The sum of all purchase values.\n",
    "\n",
    "This gives us a time series view of F and M for every customer."
   ]
  },
  {
   "cell_type": "code",
   "execution_count": 5,
   "id": "8f700efa",
   "metadata": {},
   "outputs": [
    {
     "name": "stderr",
     "output_type": "stream",
     "text": [
      "C:\\Users\\satav\\AppData\\Local\\Temp\\ipykernel_4000\\216256216.py:5: FutureWarning: 'M' is deprecated and will be removed in a future version, please use 'ME' instead.\n",
      "  time_series_df = abt_indexed.groupby('customer_id').resample('M').agg(\n"
     ]
    },
    {
     "name": "stdout",
     "output_type": "stream",
     "text": [
      "Time series aggregation complete. Preview:\n"
     ]
    },
    {
     "data": {
      "text/html": [
       "<div>\n",
       "<style scoped>\n",
       "    .dataframe tbody tr th:only-of-type {\n",
       "        vertical-align: middle;\n",
       "    }\n",
       "\n",
       "    .dataframe tbody tr th {\n",
       "        vertical-align: top;\n",
       "    }\n",
       "\n",
       "    .dataframe thead th {\n",
       "        text-align: right;\n",
       "    }\n",
       "</style>\n",
       "<table border=\"1\" class=\"dataframe\">\n",
       "  <thead>\n",
       "    <tr style=\"text-align: right;\">\n",
       "      <th></th>\n",
       "      <th>customer_id</th>\n",
       "      <th>transaction_date</th>\n",
       "      <th>frequency</th>\n",
       "      <th>monetary</th>\n",
       "    </tr>\n",
       "  </thead>\n",
       "  <tbody>\n",
       "    <tr>\n",
       "      <th>0</th>\n",
       "      <td>1</td>\n",
       "      <td>2017-01-31</td>\n",
       "      <td>1</td>\n",
       "      <td>360.40</td>\n",
       "    </tr>\n",
       "    <tr>\n",
       "      <th>1</th>\n",
       "      <td>1</td>\n",
       "      <td>2017-02-28</td>\n",
       "      <td>1</td>\n",
       "      <td>71.49</td>\n",
       "    </tr>\n",
       "    <tr>\n",
       "      <th>2</th>\n",
       "      <td>1</td>\n",
       "      <td>2017-03-31</td>\n",
       "      <td>2</td>\n",
       "      <td>1963.56</td>\n",
       "    </tr>\n",
       "    <tr>\n",
       "      <th>3</th>\n",
       "      <td>1</td>\n",
       "      <td>2017-04-30</td>\n",
       "      <td>1</td>\n",
       "      <td>1577.53</td>\n",
       "    </tr>\n",
       "    <tr>\n",
       "      <th>4</th>\n",
       "      <td>1</td>\n",
       "      <td>2017-05-31</td>\n",
       "      <td>2</td>\n",
       "      <td>3259.69</td>\n",
       "    </tr>\n",
       "  </tbody>\n",
       "</table>\n",
       "</div>"
      ],
      "text/plain": [
       "   customer_id transaction_date  frequency  monetary\n",
       "0            1       2017-01-31          1    360.40\n",
       "1            1       2017-02-28          1     71.49\n",
       "2            1       2017-03-31          2   1963.56\n",
       "3            1       2017-04-30          1   1577.53\n",
       "4            1       2017-05-31          2   3259.69"
      ]
     },
     "execution_count": 5,
     "metadata": {},
     "output_type": "execute_result"
    }
   ],
   "source": [
    "# Set transaction_date as the index for time-based operations\n",
    "abt_indexed = abt.set_index('transaction_date')\n",
    "\n",
    "# Group by customer_id and resample into monthly bins\n",
    "time_series_df = abt_indexed.groupby('customer_id').resample('M').agg(\n",
    "    frequency=('customer_id', 'size'),\n",
    "    monetary=('monetary_value', 'sum')\n",
    ").reset_index()\n",
    "\n",
    "# Resampling creates a row for every month, even with no transactions.\n",
    "# Fill months with no activity with 0 for frequency and monetary.\n",
    "time_series_df[['frequency', 'monetary']] = time_series_df[['frequency', 'monetary']].fillna(0)\n",
    "\n",
    "print(\"Time series aggregation complete. Preview:\")\n",
    "time_series_df.head()"
   ]
  },
  {
   "cell_type": "markdown",
   "id": "55b5efe2",
   "metadata": {},
   "source": [
    "Step 4: LRFM Feature Engineering\n",
    "\n",
    "Explanation\n",
    "\n",
    "With our data in a monthly time series, we can now engineer the final LRFM features. F and M are already done. We now calculate Length (L) and Recency (R'):\n",
    "\n",
    "\n",
    "\n",
    "Length (L): Measures customer tenure. It's the number of days between their first purchase and their last purchase within the current monthly period.\n",
    "\n",
    "Recency (R'): Measures recent activity. It's the number of days between the end of the month and their last purchase in that month.\n",
    "\n",
    "We calculate these and add them as new columns to complete our LRFM feature set."
   ]
  },
  {
   "cell_type": "code",
   "execution_count": 6,
   "id": "91f1f307",
   "metadata": {},
   "outputs": [
    {
     "name": "stdout",
     "output_type": "stream",
     "text": [
      "LRFM Feature Engineering complete. Final dataset preview:\n"
     ]
    },
    {
     "name": "stderr",
     "output_type": "stream",
     "text": [
      "C:\\Users\\satav\\AppData\\Local\\Temp\\ipykernel_4000\\2090517795.py:23: FutureWarning: Setting an item of incompatible dtype is deprecated and will raise an error in a future version of pandas. Value '0' has dtype incompatible with datetime64[ns], please explicitly cast to a compatible dtype first.\n",
      "  ts_final.fillna(0, inplace=True)\n",
      "C:\\Users\\satav\\AppData\\Local\\Temp\\ipykernel_4000\\2090517795.py:23: FutureWarning: Downcasting object dtype arrays on .fillna, .ffill, .bfill is deprecated and will change in a future version. Call result.infer_objects(copy=False) instead. To opt-in to the future behavior, set `pd.set_option('future.no_silent_downcasting', True)`\n",
      "  ts_final.fillna(0, inplace=True)\n"
     ]
    },
    {
     "data": {
      "text/html": [
       "<div>\n",
       "<style scoped>\n",
       "    .dataframe tbody tr th:only-of-type {\n",
       "        vertical-align: middle;\n",
       "    }\n",
       "\n",
       "    .dataframe tbody tr th {\n",
       "        vertical-align: top;\n",
       "    }\n",
       "\n",
       "    .dataframe thead th {\n",
       "        text-align: right;\n",
       "    }\n",
       "</style>\n",
       "<table border=\"1\" class=\"dataframe\">\n",
       "  <thead>\n",
       "    <tr style=\"text-align: right;\">\n",
       "      <th></th>\n",
       "      <th>customer_id</th>\n",
       "      <th>transaction_date</th>\n",
       "      <th>length</th>\n",
       "      <th>recency</th>\n",
       "      <th>frequency</th>\n",
       "      <th>monetary</th>\n",
       "    </tr>\n",
       "  </thead>\n",
       "  <tbody>\n",
       "    <tr>\n",
       "      <th>0</th>\n",
       "      <td>1</td>\n",
       "      <td>2017-01-31</td>\n",
       "      <td>0.0</td>\n",
       "      <td>0.0</td>\n",
       "      <td>1</td>\n",
       "      <td>360.40</td>\n",
       "    </tr>\n",
       "    <tr>\n",
       "      <th>1</th>\n",
       "      <td>1</td>\n",
       "      <td>2017-02-28</td>\n",
       "      <td>0.0</td>\n",
       "      <td>0.0</td>\n",
       "      <td>1</td>\n",
       "      <td>71.49</td>\n",
       "    </tr>\n",
       "    <tr>\n",
       "      <th>2</th>\n",
       "      <td>1</td>\n",
       "      <td>2017-03-31</td>\n",
       "      <td>0.0</td>\n",
       "      <td>0.0</td>\n",
       "      <td>2</td>\n",
       "      <td>1963.56</td>\n",
       "    </tr>\n",
       "    <tr>\n",
       "      <th>3</th>\n",
       "      <td>1</td>\n",
       "      <td>2017-04-30</td>\n",
       "      <td>0.0</td>\n",
       "      <td>0.0</td>\n",
       "      <td>1</td>\n",
       "      <td>1577.53</td>\n",
       "    </tr>\n",
       "    <tr>\n",
       "      <th>4</th>\n",
       "      <td>1</td>\n",
       "      <td>2017-05-31</td>\n",
       "      <td>0.0</td>\n",
       "      <td>0.0</td>\n",
       "      <td>2</td>\n",
       "      <td>3259.69</td>\n",
       "    </tr>\n",
       "  </tbody>\n",
       "</table>\n",
       "</div>"
      ],
      "text/plain": [
       "   customer_id transaction_date  length  recency  frequency  monetary\n",
       "0            1       2017-01-31     0.0      0.0          1    360.40\n",
       "1            1       2017-02-28     0.0      0.0          1     71.49\n",
       "2            1       2017-03-31     0.0      0.0          2   1963.56\n",
       "3            1       2017-04-30     0.0      0.0          1   1577.53\n",
       "4            1       2017-05-31     0.0      0.0          2   3259.69"
      ]
     },
     "execution_count": 6,
     "metadata": {},
     "output_type": "execute_result"
    }
   ],
   "source": [
    "# Calculate the very first purchase date for each customer\n",
    "first_purchase = abt.groupby('customer_id')['transaction_date'].min().reset_index()\n",
    "first_purchase.rename(columns={'transaction_date': 'first_purchase_date'}, inplace=True)\n",
    "\n",
    "# Calculate the last purchase date within each month for each customer\n",
    "# FIX: Using a more stable groupby().agg() approach to avoid version-specific errors.\n",
    "abt['transaction_month'] = abt['transaction_date'].dt.to_period('M').dt.start_time\n",
    "last_purchase_in_period = abt.groupby(['customer_id', 'transaction_month'])['transaction_date'].max().reset_index()\n",
    "last_purchase_in_period.rename(columns={'transaction_date': 'last_purchase_date', 'transaction_month': 'transaction_date'}, inplace=True)\n",
    "\n",
    "# Merge these helper calculations back into the main time series dataframe\n",
    "ts_final = pd.merge(time_series_df, first_purchase, on='customer_id', how='left')\n",
    "ts_final = pd.merge(ts_final, last_purchase_in_period, on=['customer_id', 'transaction_date'], how='left')\n",
    "\n",
    "# --- Calculate L and R' in days --- #\n",
    "# Forward-fill the last purchase date for months where there were no purchases\n",
    "ts_final['last_purchase_date'] = ts_final.groupby('customer_id')['last_purchase_date'].ffill()\n",
    "\n",
    "ts_final['length'] = (ts_final['last_purchase_date'] - ts_final['first_purchase_date']).dt.days\n",
    "ts_final['recency'] = (ts_final['transaction_date'].dt.to_period('M').dt.end_time - ts_final['last_purchase_date']).dt.days\n",
    "\n",
    "# Handle NaNs that arise (e.g. for the very first month) by filling them with 0\n",
    "ts_final.fillna(0, inplace=True)\n",
    "\n",
    "# Select final features for clustering\n",
    "features = ['length', 'recency', 'frequency', 'monetary']\n",
    "final_lrfm_df = ts_final[['customer_id', 'transaction_date'] + features]\n",
    "\n",
    "print(\"LRFM Feature Engineering complete. Final dataset preview:\")\n",
    "final_lrfm_df.head()"
   ]
  },
  {
   "cell_type": "markdown",
   "id": "3df850a8",
   "metadata": {},
   "source": [
    "Step 5: Multivariate Time Series Clustering\n",
    "Explanation\n",
    "This is the core machine learning step. The tslearn library requires data in a 3D shape: (number_of_customers, number_of_timesteps, number_of_features). We use .pivot() and .reshape() to transform our table into this 3D array.\n",
    "\n",
    "Before clustering, we scale the data using TimeSeriesScalerMinMax. This is crucial because features like monetary can have large values that would otherwise dominate the algorithm. Scaling brings all features into a 0-to-1 range.\n",
    "\n",
    "We then find the optimal number of clusters (k) by calculating the Silhouette Score for several values of k. The highest score indicates the best-defined clusters. Finally, we run TimeSeriesKMeans with the optimal k to get our final segments. We use the \"dtw\" (Dynamic Time Warping) metric, which is excellent for comparing time series."
   ]
  },
  {
   "cell_type": "code",
   "execution_count": 7,
   "id": "1baa8047",
   "metadata": {},
   "outputs": [
    {
     "name": "stdout",
     "output_type": "stream",
     "text": [
      "Data reshaped and scaled. Shape: (3494, 12, 4)\n",
      "Created a sample of 800 customers to find optimal k.\n",
      "\n",
      "Finding optimal number of clusters (k) on the sample...\n",
      "k=2, Silhouette Score: 0.0734\n",
      "k=3, Silhouette Score: 0.0674\n",
      "k=4, Silhouette Score: 0.0663\n",
      "k=5, Silhouette Score: 0.0546\n",
      "\n",
      "Optimal k found from sample: 2\n",
      "\n",
      "Running final clustering with k=2 on the full dataset...\n",
      "\n",
      "Clustering complete.\n"
     ]
    },
    {
     "data": {
      "text/html": [
       "<div>\n",
       "<style scoped>\n",
       "    .dataframe tbody tr th:only-of-type {\n",
       "        vertical-align: middle;\n",
       "    }\n",
       "\n",
       "    .dataframe tbody tr th {\n",
       "        vertical-align: top;\n",
       "    }\n",
       "\n",
       "    .dataframe thead th {\n",
       "        text-align: right;\n",
       "    }\n",
       "</style>\n",
       "<table border=\"1\" class=\"dataframe\">\n",
       "  <thead>\n",
       "    <tr style=\"text-align: right;\">\n",
       "      <th></th>\n",
       "      <th>customer_id</th>\n",
       "      <th>cluster</th>\n",
       "    </tr>\n",
       "  </thead>\n",
       "  <tbody>\n",
       "    <tr>\n",
       "      <th>0</th>\n",
       "      <td>1</td>\n",
       "      <td>1</td>\n",
       "    </tr>\n",
       "    <tr>\n",
       "      <th>1</th>\n",
       "      <td>2</td>\n",
       "      <td>0</td>\n",
       "    </tr>\n",
       "    <tr>\n",
       "      <th>2</th>\n",
       "      <td>3</td>\n",
       "      <td>1</td>\n",
       "    </tr>\n",
       "    <tr>\n",
       "      <th>3</th>\n",
       "      <td>4</td>\n",
       "      <td>0</td>\n",
       "    </tr>\n",
       "    <tr>\n",
       "      <th>4</th>\n",
       "      <td>5</td>\n",
       "      <td>1</td>\n",
       "    </tr>\n",
       "  </tbody>\n",
       "</table>\n",
       "</div>"
      ],
      "text/plain": [
       "   customer_id  cluster\n",
       "0            1        1\n",
       "1            2        0\n",
       "2            3        1\n",
       "3            4        0\n",
       "4            5        1"
      ]
     },
     "execution_count": 7,
     "metadata": {},
     "output_type": "execute_result"
    }
   ],
   "source": [
    "# Pivot the table to prepare for reshaping\n",
    "pivoted_df = final_lrfm_df.pivot(index='customer_id', columns='transaction_date', values=features)\n",
    "pivoted_df.fillna(0, inplace=True) # Fill NaNs for customers who joined later\n",
    "\n",
    "# Reshape data into a 3D NumPy array (n_customers, n_timesteps, n_features)\n",
    "n_customers = len(pivoted_df.index)\n",
    "n_timesteps = len(final_lrfm_df['transaction_date'].unique())\n",
    "n_features = len(features)\n",
    "data_array = pivoted_df.values.reshape(n_customers, n_timesteps, n_features)\n",
    "\n",
    "# Scale the features\n",
    "scaler = TimeSeriesScalerMinMax()\n",
    "scaled_data = scaler.fit_transform(data_array)\n",
    "print(f\"Data reshaped and scaled. Shape: {scaled_data.shape}\")\n",
    "\n",
    "\n",
    "# --- SPEED UP: Create a sample for finding the optimal k ---\n",
    "sample_size = 800\n",
    "# Ensure sample size is not larger than the number of customers\n",
    "if sample_size > n_customers:\n",
    "    sample_size = n_customers\n",
    "\n",
    "np.random.seed(42) # for reproducibility\n",
    "sample_indices = np.random.choice(n_customers, sample_size, replace=False)\n",
    "data_sample = scaled_data[sample_indices]\n",
    "print(f\"Created a sample of {sample_size} customers to find optimal k.\")\n",
    "\n",
    "\n",
    "# --- Find the optimal number of clusters (k) on the SAMPLE --- #\n",
    "print(\"\\nFinding optimal number of clusters (k) on the sample...\")\n",
    "silhouette_scores = {}\n",
    "# Reshape sample data for silhouette score evaluation (needs 2D)\n",
    "reshaped_sample_for_eval = data_sample.reshape(sample_size, -1) \n",
    "\n",
    "for k in range(2, 6): # Test k from 2 to 5 (reduced range for speed)\n",
    "    model = TimeSeriesKMeans(n_clusters=k, metric=\"dtw\", max_iter=5, random_state=42, n_jobs=-1)\n",
    "    labels = model.fit_predict(data_sample)\n",
    "    score = silhouette_score(reshaped_sample_for_eval, labels)\n",
    "    silhouette_scores[k] = score\n",
    "    print(f\"k={k}, Silhouette Score: {score:.4f}\")\n",
    "\n",
    "optimal_k = max(silhouette_scores, key=silhouette_scores.get)\n",
    "print(f\"\\nOptimal k found from sample: {optimal_k}\")\n",
    "\n",
    "\n",
    "# --- Final Clustering on the FULL dataset --- #\n",
    "print(f\"\\nRunning final clustering with k={optimal_k} on the full dataset...\")\n",
    "final_model = TimeSeriesKMeans(n_clusters=optimal_k, metric=\"dtw\", max_iter=10, random_state=42, n_jobs=-1)\n",
    "final_labels = final_model.fit_predict(scaled_data) # Use the full 'scaled_data'\n",
    "\n",
    "# Add cluster labels back to our customer list\n",
    "customer_clusters = pd.DataFrame({'customer_id': pivoted_df.index, 'cluster': final_labels})\n",
    "print(\"\\nClustering complete.\")\n",
    "customer_clusters.head()\n"
   ]
  },
  {
   "cell_type": "markdown",
   "id": "c9613eff",
   "metadata": {},
   "source": [
    "Step 6: Analysis & Visualization\n",
    "Explanation\n",
    "Now that we have assigned each customer to a cluster, the final step is to understand what these clusters represent.\n",
    "\n",
    "To interpret the clusters, we calculate the average value for each of the LRFM features within each cluster using groupby('cluster').mean(). This gives us a cluster summary table that reveals the defining characteristics of each segment (e.g., high monetary value, high frequency).\n",
    "\n",
    "To bring this to life, we visualize the average monthly spend (monetary) for each cluster over time. This line chart is the most powerful output of our project, as it clearly shows the different behavioral patterns of our customer segments, allowing us to give them meaningful names like \"Loyal High Spenders\" or \"At-Risk Customers\"."
   ]
  },
  {
   "cell_type": "code",
   "execution_count": 8,
   "id": "a46f8a4d",
   "metadata": {},
   "outputs": [
    {
     "data": {
      "application/vnd.plotly.v1+json": {
       "config": {
        "plotlyServerURL": "https://plot.ly"
       },
       "data": [
        {
         "hovertemplate": "Customer Cluster=0<br>Date=%{x}<br>Average Monetary Value=%{y}<extra></extra>",
         "legendgroup": "0",
         "line": {
          "color": "#636efa",
          "dash": "solid"
         },
         "marker": {
          "symbol": "circle"
         },
         "mode": "lines",
         "name": "0",
         "orientation": "v",
         "showlegend": true,
         "type": "scatter",
         "x": [
          "2017-01-31T00:00:00.000000000",
          "2017-02-28T00:00:00.000000000",
          "2017-03-31T00:00:00.000000000",
          "2017-04-30T00:00:00.000000000",
          "2017-05-31T00:00:00.000000000",
          "2017-06-30T00:00:00.000000000",
          "2017-07-31T00:00:00.000000000",
          "2017-08-31T00:00:00.000000000",
          "2017-09-30T00:00:00.000000000",
          "2017-10-31T00:00:00.000000000",
          "2017-11-30T00:00:00.000000000",
          "2017-12-31T00:00:00.000000000"
         ],
         "xaxis": "x",
         "y": {
          "bdata": "u64KEysZlkDSTXYjgtCKQCnejbcXTGFAzUW/EGPahUDaZbpl8M6CQOwLKLt3DIJAH/q3DSiNdECVhW/Vy02DQPB642IT6YBAAS+5mYbMhEC3VfzTKTORQLeZpSTjppRA",
          "dtype": "f8"
         },
         "yaxis": "y"
        },
        {
         "hovertemplate": "Customer Cluster=1<br>Date=%{x}<br>Average Monetary Value=%{y}<extra></extra>",
         "legendgroup": "1",
         "line": {
          "color": "#EF553B",
          "dash": "solid"
         },
         "marker": {
          "symbol": "circle"
         },
         "mode": "lines",
         "name": "1",
         "orientation": "v",
         "showlegend": true,
         "type": "scatter",
         "x": [
          "2017-01-31T00:00:00.000000000",
          "2017-02-28T00:00:00.000000000",
          "2017-03-31T00:00:00.000000000",
          "2017-04-30T00:00:00.000000000",
          "2017-05-31T00:00:00.000000000",
          "2017-06-30T00:00:00.000000000",
          "2017-07-31T00:00:00.000000000",
          "2017-08-31T00:00:00.000000000",
          "2017-09-30T00:00:00.000000000",
          "2017-10-31T00:00:00.000000000",
          "2017-11-30T00:00:00.000000000",
          "2017-12-31T00:00:00.000000000"
         ],
         "xaxis": "x",
         "y": {
          "bdata": "iKVNu0urlEATBkI48wOJQAw4C+oeDpNAdeBEooLWgECvtUWwMA+DQDDKoJI5a39A5xG3JWbUikBbPShb8uWCQH0XQ2CgDIRAFDzE1RZCiUARW1BeRlR9QKvENhxcJpZA",
          "dtype": "f8"
         },
         "yaxis": "y"
        }
       ],
       "layout": {
        "font": {
         "family": "Arial, sans-serif",
         "size": 12
        },
        "legend": {
         "title": {
          "text": "Cluster"
         },
         "tracegroupgap": 0
        },
        "template": {
         "data": {
          "bar": [
           {
            "error_x": {
             "color": "#2a3f5f"
            },
            "error_y": {
             "color": "#2a3f5f"
            },
            "marker": {
             "line": {
              "color": "#E5ECF6",
              "width": 0.5
             },
             "pattern": {
              "fillmode": "overlay",
              "size": 10,
              "solidity": 0.2
             }
            },
            "type": "bar"
           }
          ],
          "barpolar": [
           {
            "marker": {
             "line": {
              "color": "#E5ECF6",
              "width": 0.5
             },
             "pattern": {
              "fillmode": "overlay",
              "size": 10,
              "solidity": 0.2
             }
            },
            "type": "barpolar"
           }
          ],
          "carpet": [
           {
            "aaxis": {
             "endlinecolor": "#2a3f5f",
             "gridcolor": "white",
             "linecolor": "white",
             "minorgridcolor": "white",
             "startlinecolor": "#2a3f5f"
            },
            "baxis": {
             "endlinecolor": "#2a3f5f",
             "gridcolor": "white",
             "linecolor": "white",
             "minorgridcolor": "white",
             "startlinecolor": "#2a3f5f"
            },
            "type": "carpet"
           }
          ],
          "choropleth": [
           {
            "colorbar": {
             "outlinewidth": 0,
             "ticks": ""
            },
            "type": "choropleth"
           }
          ],
          "contour": [
           {
            "colorbar": {
             "outlinewidth": 0,
             "ticks": ""
            },
            "colorscale": [
             [
              0,
              "#0d0887"
             ],
             [
              0.1111111111111111,
              "#46039f"
             ],
             [
              0.2222222222222222,
              "#7201a8"
             ],
             [
              0.3333333333333333,
              "#9c179e"
             ],
             [
              0.4444444444444444,
              "#bd3786"
             ],
             [
              0.5555555555555556,
              "#d8576b"
             ],
             [
              0.6666666666666666,
              "#ed7953"
             ],
             [
              0.7777777777777778,
              "#fb9f3a"
             ],
             [
              0.8888888888888888,
              "#fdca26"
             ],
             [
              1,
              "#f0f921"
             ]
            ],
            "type": "contour"
           }
          ],
          "contourcarpet": [
           {
            "colorbar": {
             "outlinewidth": 0,
             "ticks": ""
            },
            "type": "contourcarpet"
           }
          ],
          "heatmap": [
           {
            "colorbar": {
             "outlinewidth": 0,
             "ticks": ""
            },
            "colorscale": [
             [
              0,
              "#0d0887"
             ],
             [
              0.1111111111111111,
              "#46039f"
             ],
             [
              0.2222222222222222,
              "#7201a8"
             ],
             [
              0.3333333333333333,
              "#9c179e"
             ],
             [
              0.4444444444444444,
              "#bd3786"
             ],
             [
              0.5555555555555556,
              "#d8576b"
             ],
             [
              0.6666666666666666,
              "#ed7953"
             ],
             [
              0.7777777777777778,
              "#fb9f3a"
             ],
             [
              0.8888888888888888,
              "#fdca26"
             ],
             [
              1,
              "#f0f921"
             ]
            ],
            "type": "heatmap"
           }
          ],
          "histogram": [
           {
            "marker": {
             "pattern": {
              "fillmode": "overlay",
              "size": 10,
              "solidity": 0.2
             }
            },
            "type": "histogram"
           }
          ],
          "histogram2d": [
           {
            "colorbar": {
             "outlinewidth": 0,
             "ticks": ""
            },
            "colorscale": [
             [
              0,
              "#0d0887"
             ],
             [
              0.1111111111111111,
              "#46039f"
             ],
             [
              0.2222222222222222,
              "#7201a8"
             ],
             [
              0.3333333333333333,
              "#9c179e"
             ],
             [
              0.4444444444444444,
              "#bd3786"
             ],
             [
              0.5555555555555556,
              "#d8576b"
             ],
             [
              0.6666666666666666,
              "#ed7953"
             ],
             [
              0.7777777777777778,
              "#fb9f3a"
             ],
             [
              0.8888888888888888,
              "#fdca26"
             ],
             [
              1,
              "#f0f921"
             ]
            ],
            "type": "histogram2d"
           }
          ],
          "histogram2dcontour": [
           {
            "colorbar": {
             "outlinewidth": 0,
             "ticks": ""
            },
            "colorscale": [
             [
              0,
              "#0d0887"
             ],
             [
              0.1111111111111111,
              "#46039f"
             ],
             [
              0.2222222222222222,
              "#7201a8"
             ],
             [
              0.3333333333333333,
              "#9c179e"
             ],
             [
              0.4444444444444444,
              "#bd3786"
             ],
             [
              0.5555555555555556,
              "#d8576b"
             ],
             [
              0.6666666666666666,
              "#ed7953"
             ],
             [
              0.7777777777777778,
              "#fb9f3a"
             ],
             [
              0.8888888888888888,
              "#fdca26"
             ],
             [
              1,
              "#f0f921"
             ]
            ],
            "type": "histogram2dcontour"
           }
          ],
          "mesh3d": [
           {
            "colorbar": {
             "outlinewidth": 0,
             "ticks": ""
            },
            "type": "mesh3d"
           }
          ],
          "parcoords": [
           {
            "line": {
             "colorbar": {
              "outlinewidth": 0,
              "ticks": ""
             }
            },
            "type": "parcoords"
           }
          ],
          "pie": [
           {
            "automargin": true,
            "type": "pie"
           }
          ],
          "scatter": [
           {
            "fillpattern": {
             "fillmode": "overlay",
             "size": 10,
             "solidity": 0.2
            },
            "type": "scatter"
           }
          ],
          "scatter3d": [
           {
            "line": {
             "colorbar": {
              "outlinewidth": 0,
              "ticks": ""
             }
            },
            "marker": {
             "colorbar": {
              "outlinewidth": 0,
              "ticks": ""
             }
            },
            "type": "scatter3d"
           }
          ],
          "scattercarpet": [
           {
            "marker": {
             "colorbar": {
              "outlinewidth": 0,
              "ticks": ""
             }
            },
            "type": "scattercarpet"
           }
          ],
          "scattergeo": [
           {
            "marker": {
             "colorbar": {
              "outlinewidth": 0,
              "ticks": ""
             }
            },
            "type": "scattergeo"
           }
          ],
          "scattergl": [
           {
            "marker": {
             "colorbar": {
              "outlinewidth": 0,
              "ticks": ""
             }
            },
            "type": "scattergl"
           }
          ],
          "scattermap": [
           {
            "marker": {
             "colorbar": {
              "outlinewidth": 0,
              "ticks": ""
             }
            },
            "type": "scattermap"
           }
          ],
          "scattermapbox": [
           {
            "marker": {
             "colorbar": {
              "outlinewidth": 0,
              "ticks": ""
             }
            },
            "type": "scattermapbox"
           }
          ],
          "scatterpolar": [
           {
            "marker": {
             "colorbar": {
              "outlinewidth": 0,
              "ticks": ""
             }
            },
            "type": "scatterpolar"
           }
          ],
          "scatterpolargl": [
           {
            "marker": {
             "colorbar": {
              "outlinewidth": 0,
              "ticks": ""
             }
            },
            "type": "scatterpolargl"
           }
          ],
          "scatterternary": [
           {
            "marker": {
             "colorbar": {
              "outlinewidth": 0,
              "ticks": ""
             }
            },
            "type": "scatterternary"
           }
          ],
          "surface": [
           {
            "colorbar": {
             "outlinewidth": 0,
             "ticks": ""
            },
            "colorscale": [
             [
              0,
              "#0d0887"
             ],
             [
              0.1111111111111111,
              "#46039f"
             ],
             [
              0.2222222222222222,
              "#7201a8"
             ],
             [
              0.3333333333333333,
              "#9c179e"
             ],
             [
              0.4444444444444444,
              "#bd3786"
             ],
             [
              0.5555555555555556,
              "#d8576b"
             ],
             [
              0.6666666666666666,
              "#ed7953"
             ],
             [
              0.7777777777777778,
              "#fb9f3a"
             ],
             [
              0.8888888888888888,
              "#fdca26"
             ],
             [
              1,
              "#f0f921"
             ]
            ],
            "type": "surface"
           }
          ],
          "table": [
           {
            "cells": {
             "fill": {
              "color": "#EBF0F8"
             },
             "line": {
              "color": "white"
             }
            },
            "header": {
             "fill": {
              "color": "#C8D4E3"
             },
             "line": {
              "color": "white"
             }
            },
            "type": "table"
           }
          ]
         },
         "layout": {
          "annotationdefaults": {
           "arrowcolor": "#2a3f5f",
           "arrowhead": 0,
           "arrowwidth": 1
          },
          "autotypenumbers": "strict",
          "coloraxis": {
           "colorbar": {
            "outlinewidth": 0,
            "ticks": ""
           }
          },
          "colorscale": {
           "diverging": [
            [
             0,
             "#8e0152"
            ],
            [
             0.1,
             "#c51b7d"
            ],
            [
             0.2,
             "#de77ae"
            ],
            [
             0.3,
             "#f1b6da"
            ],
            [
             0.4,
             "#fde0ef"
            ],
            [
             0.5,
             "#f7f7f7"
            ],
            [
             0.6,
             "#e6f5d0"
            ],
            [
             0.7,
             "#b8e186"
            ],
            [
             0.8,
             "#7fbc41"
            ],
            [
             0.9,
             "#4d9221"
            ],
            [
             1,
             "#276419"
            ]
           ],
           "sequential": [
            [
             0,
             "#0d0887"
            ],
            [
             0.1111111111111111,
             "#46039f"
            ],
            [
             0.2222222222222222,
             "#7201a8"
            ],
            [
             0.3333333333333333,
             "#9c179e"
            ],
            [
             0.4444444444444444,
             "#bd3786"
            ],
            [
             0.5555555555555556,
             "#d8576b"
            ],
            [
             0.6666666666666666,
             "#ed7953"
            ],
            [
             0.7777777777777778,
             "#fb9f3a"
            ],
            [
             0.8888888888888888,
             "#fdca26"
            ],
            [
             1,
             "#f0f921"
            ]
           ],
           "sequentialminus": [
            [
             0,
             "#0d0887"
            ],
            [
             0.1111111111111111,
             "#46039f"
            ],
            [
             0.2222222222222222,
             "#7201a8"
            ],
            [
             0.3333333333333333,
             "#9c179e"
            ],
            [
             0.4444444444444444,
             "#bd3786"
            ],
            [
             0.5555555555555556,
             "#d8576b"
            ],
            [
             0.6666666666666666,
             "#ed7953"
            ],
            [
             0.7777777777777778,
             "#fb9f3a"
            ],
            [
             0.8888888888888888,
             "#fdca26"
            ],
            [
             1,
             "#f0f921"
            ]
           ]
          },
          "colorway": [
           "#636efa",
           "#EF553B",
           "#00cc96",
           "#ab63fa",
           "#FFA15A",
           "#19d3f3",
           "#FF6692",
           "#B6E880",
           "#FF97FF",
           "#FECB52"
          ],
          "font": {
           "color": "#2a3f5f"
          },
          "geo": {
           "bgcolor": "white",
           "lakecolor": "white",
           "landcolor": "#E5ECF6",
           "showlakes": true,
           "showland": true,
           "subunitcolor": "white"
          },
          "hoverlabel": {
           "align": "left"
          },
          "hovermode": "closest",
          "mapbox": {
           "style": "light"
          },
          "paper_bgcolor": "white",
          "plot_bgcolor": "#E5ECF6",
          "polar": {
           "angularaxis": {
            "gridcolor": "white",
            "linecolor": "white",
            "ticks": ""
           },
           "bgcolor": "#E5ECF6",
           "radialaxis": {
            "gridcolor": "white",
            "linecolor": "white",
            "ticks": ""
           }
          },
          "scene": {
           "xaxis": {
            "backgroundcolor": "#E5ECF6",
            "gridcolor": "white",
            "gridwidth": 2,
            "linecolor": "white",
            "showbackground": true,
            "ticks": "",
            "zerolinecolor": "white"
           },
           "yaxis": {
            "backgroundcolor": "#E5ECF6",
            "gridcolor": "white",
            "gridwidth": 2,
            "linecolor": "white",
            "showbackground": true,
            "ticks": "",
            "zerolinecolor": "white"
           },
           "zaxis": {
            "backgroundcolor": "#E5ECF6",
            "gridcolor": "white",
            "gridwidth": 2,
            "linecolor": "white",
            "showbackground": true,
            "ticks": "",
            "zerolinecolor": "white"
           }
          },
          "shapedefaults": {
           "line": {
            "color": "#2a3f5f"
           }
          },
          "ternary": {
           "aaxis": {
            "gridcolor": "white",
            "linecolor": "white",
            "ticks": ""
           },
           "baxis": {
            "gridcolor": "white",
            "linecolor": "white",
            "ticks": ""
           },
           "bgcolor": "#E5ECF6",
           "caxis": {
            "gridcolor": "white",
            "linecolor": "white",
            "ticks": ""
           }
          },
          "title": {
           "x": 0.05
          },
          "xaxis": {
           "automargin": true,
           "gridcolor": "white",
           "linecolor": "white",
           "ticks": "",
           "title": {
            "standoff": 15
           },
           "zerolinecolor": "white",
           "zerolinewidth": 2
          },
          "yaxis": {
           "automargin": true,
           "gridcolor": "white",
           "linecolor": "white",
           "ticks": "",
           "title": {
            "standoff": 15
           },
           "zerolinecolor": "white",
           "zerolinewidth": 2
          }
         }
        },
        "title": {
         "text": "Average Monthly Spend per Customer Cluster"
        },
        "xaxis": {
         "anchor": "y",
         "domain": [
          0,
          1
         ],
         "title": {
          "text": "Month"
         }
        },
        "yaxis": {
         "anchor": "x",
         "domain": [
          0,
          1
         ],
         "title": {
          "text": "Average Spend"
         }
        }
       }
      }
     },
     "metadata": {},
     "output_type": "display_data"
    },
    {
     "name": "stdout",
     "output_type": "stream",
     "text": [
      "\n",
      "--- Cluster Summary Statistics (Average LRFM values) ---\n"
     ]
    },
    {
     "data": {
      "text/html": [
       "<div>\n",
       "<style scoped>\n",
       "    .dataframe tbody tr th:only-of-type {\n",
       "        vertical-align: middle;\n",
       "    }\n",
       "\n",
       "    .dataframe tbody tr th {\n",
       "        vertical-align: top;\n",
       "    }\n",
       "\n",
       "    .dataframe thead th {\n",
       "        text-align: right;\n",
       "    }\n",
       "</style>\n",
       "<table border=\"1\" class=\"dataframe\">\n",
       "  <thead>\n",
       "    <tr style=\"text-align: right;\">\n",
       "      <th></th>\n",
       "      <th>length</th>\n",
       "      <th>recency</th>\n",
       "      <th>frequency</th>\n",
       "      <th>monetary</th>\n",
       "      <th>customer_count</th>\n",
       "    </tr>\n",
       "    <tr>\n",
       "      <th>cluster</th>\n",
       "      <th></th>\n",
       "      <th></th>\n",
       "      <th></th>\n",
       "      <th></th>\n",
       "      <th></th>\n",
       "    </tr>\n",
       "  </thead>\n",
       "  <tbody>\n",
       "    <tr>\n",
       "      <th>0</th>\n",
       "      <td>0.0</td>\n",
       "      <td>0.0</td>\n",
       "      <td>0.61</td>\n",
       "      <td>674.17</td>\n",
       "      <td>1878</td>\n",
       "    </tr>\n",
       "    <tr>\n",
       "      <th>1</th>\n",
       "      <td>0.0</td>\n",
       "      <td>0.0</td>\n",
       "      <td>0.69</td>\n",
       "      <td>759.11</td>\n",
       "      <td>1616</td>\n",
       "    </tr>\n",
       "  </tbody>\n",
       "</table>\n",
       "</div>"
      ],
      "text/plain": [
       "         length  recency  frequency  monetary  customer_count\n",
       "cluster                                                      \n",
       "0           0.0      0.0       0.61    674.17            1878\n",
       "1           0.0      0.0       0.69    759.11            1616"
      ]
     },
     "execution_count": 8,
     "metadata": {},
     "output_type": "execute_result"
    }
   ],
   "source": [
    "# Merge cluster labels with the full LRFM time series data\n",
    "analysis_df = pd.merge(final_lrfm_df, customer_clusters, on='customer_id')\n",
    "\n",
    "# --- Visualize the Cluster Trends --- #\n",
    "# Calculate the average monetary value for each cluster over time\n",
    "cluster_trends = analysis_df.groupby(['cluster', 'transaction_date'])['monetary'].mean().reset_index()\n",
    "\n",
    "fig = px.line(\n",
    "    cluster_trends, \n",
    "    x='transaction_date', \n",
    "    y='monetary', \n",
    "    color='cluster', \n",
    "    title='Average Monthly Spend per Customer Cluster',\n",
    "    labels={'monetary': 'Average Monetary Value', 'transaction_date': 'Date', 'cluster': 'Customer Cluster'}\n",
    ")\n",
    "fig.update_layout(\n",
    "    xaxis_title='Month',\n",
    "    yaxis_title='Average Spend',\n",
    "    legend_title='Cluster',\n",
    "    font=dict(family=\"Arial, sans-serif\", size=12)\n",
    ")\n",
    "fig.show()\n",
    "\n",
    "# --- Analyze Cluster Characteristics --- #\n",
    "# Calculate the average LRFM values and customer count for each cluster\n",
    "cluster_summary = analysis_df.groupby('cluster')[features].mean().round(2)\n",
    "cluster_summary['customer_count'] = analysis_df.groupby('cluster')['customer_id'].nunique()\n",
    "\n",
    "print(\"\\n--- Cluster Summary Statistics (Average LRFM values) ---\")\n",
    "cluster_summary\n"
   ]
  },
  {
   "cell_type": "markdown",
   "id": "0c87b067",
   "metadata": {},
   "source": [
    "Step 7: Forecasting Future Customer Spend\n",
    "Explanation\n",
    "Now that we understand the historical behavior of our customer segments, the next logical step is to predict their future value. We will use a forecasting model to predict the average monthly spend for each cluster for the next 6 months.\n",
    "\n",
    "For this task, we'll use Prophet, a powerful and user-friendly forecasting library developed by Facebook. It's excellent at handling time series data with trends and seasonality.\n",
    "\n",
    "The process is as follows:\n",
    "\n",
    "Install Prophet: Add the necessary library.\n",
    "\n",
    "Loop Through Each Cluster: For each customer segment, we will train a separate forecasting model.\n",
    "\n",
    "Prepare Data: Prophet requires the data to be in a specific format with two columns: ds (for the date) and y (for the value we want to predict).\n",
    "\n",
    "Train and Predict: We'll train the model on the historical spending data and then ask it to predict the next 6 months.\n",
    "\n",
    "Visualize Forecast: We will combine the historical data with the new forecast and plot it, including an \"uncertainty interval\" which shows the likely range of future spending."
   ]
  },
  {
   "cell_type": "code",
   "execution_count": 10,
   "id": "a33462e6",
   "metadata": {},
   "outputs": [
    {
     "name": "stderr",
     "output_type": "stream",
     "text": [
      "\n",
      "[notice] A new release of pip is available: 24.0 -> 25.2\n",
      "[notice] To update, run: python.exe -m pip install --upgrade pip\n",
      "20:15:04 - cmdstanpy - INFO - Chain [1] start processing\n",
      "20:15:04 - cmdstanpy - INFO - Chain [1] done processing\n"
     ]
    },
    {
     "name": "stdout",
     "output_type": "stream",
     "text": [
      "Requirement already satisfied: prophet in c:\\users\\satav\\appdata\\local\\programs\\python\\python310\\lib\\site-packages (1.1.7)\n",
      "Requirement already satisfied: cmdstanpy>=1.0.4 in c:\\users\\satav\\appdata\\local\\programs\\python\\python310\\lib\\site-packages (from prophet) (1.2.5)\n",
      "Requirement already satisfied: numpy>=1.15.4 in c:\\users\\satav\\appdata\\local\\programs\\python\\python310\\lib\\site-packages (from prophet) (1.26.4)\n",
      "Requirement already satisfied: matplotlib>=2.0.0 in c:\\users\\satav\\appdata\\local\\programs\\python\\python310\\lib\\site-packages (from prophet) (3.10.3)\n",
      "Requirement already satisfied: pandas>=1.0.4 in c:\\users\\satav\\appdata\\local\\programs\\python\\python310\\lib\\site-packages (from prophet) (2.2.3)\n",
      "Requirement already satisfied: holidays<1,>=0.25 in c:\\users\\satav\\appdata\\local\\programs\\python\\python310\\lib\\site-packages (from prophet) (0.80)\n",
      "Requirement already satisfied: tqdm>=4.36.1 in c:\\users\\satav\\appdata\\local\\programs\\python\\python310\\lib\\site-packages (from prophet) (4.67.1)\n",
      "Requirement already satisfied: importlib_resources in c:\\users\\satav\\appdata\\local\\programs\\python\\python310\\lib\\site-packages (from prophet) (6.5.2)\n",
      "Requirement already satisfied: stanio<2.0.0,>=0.4.0 in c:\\users\\satav\\appdata\\local\\programs\\python\\python310\\lib\\site-packages (from cmdstanpy>=1.0.4->prophet) (0.5.1)\n",
      "Requirement already satisfied: python-dateutil in c:\\users\\satav\\appdata\\local\\programs\\python\\python310\\lib\\site-packages (from holidays<1,>=0.25->prophet) (2.9.0.post0)\n",
      "Requirement already satisfied: contourpy>=1.0.1 in c:\\users\\satav\\appdata\\local\\programs\\python\\python310\\lib\\site-packages (from matplotlib>=2.0.0->prophet) (1.3.2)\n",
      "Requirement already satisfied: cycler>=0.10 in c:\\users\\satav\\appdata\\local\\programs\\python\\python310\\lib\\site-packages (from matplotlib>=2.0.0->prophet) (0.12.1)\n",
      "Requirement already satisfied: fonttools>=4.22.0 in c:\\users\\satav\\appdata\\local\\programs\\python\\python310\\lib\\site-packages (from matplotlib>=2.0.0->prophet) (4.58.0)\n",
      "Requirement already satisfied: kiwisolver>=1.3.1 in c:\\users\\satav\\appdata\\local\\programs\\python\\python310\\lib\\site-packages (from matplotlib>=2.0.0->prophet) (1.4.8)\n",
      "Requirement already satisfied: packaging>=20.0 in c:\\users\\satav\\appdata\\local\\programs\\python\\python310\\lib\\site-packages (from matplotlib>=2.0.0->prophet) (25.0)\n",
      "Requirement already satisfied: pillow>=8 in c:\\users\\satav\\appdata\\local\\programs\\python\\python310\\lib\\site-packages (from matplotlib>=2.0.0->prophet) (10.3.0)\n",
      "Requirement already satisfied: pyparsing>=2.3.1 in c:\\users\\satav\\appdata\\local\\programs\\python\\python310\\lib\\site-packages (from matplotlib>=2.0.0->prophet) (3.2.3)\n",
      "Requirement already satisfied: pytz>=2020.1 in c:\\users\\satav\\appdata\\local\\programs\\python\\python310\\lib\\site-packages (from pandas>=1.0.4->prophet) (2025.2)\n",
      "Requirement already satisfied: tzdata>=2022.7 in c:\\users\\satav\\appdata\\local\\programs\\python\\python310\\lib\\site-packages (from pandas>=1.0.4->prophet) (2025.2)\n",
      "Requirement already satisfied: colorama in c:\\users\\satav\\appdata\\local\\programs\\python\\python310\\lib\\site-packages (from tqdm>=4.36.1->prophet) (0.4.6)\n",
      "Requirement already satisfied: six>=1.5 in c:\\users\\satav\\appdata\\local\\programs\\python\\python310\\lib\\site-packages (from python-dateutil->holidays<1,>=0.25->prophet) (1.17.0)\n",
      "\n",
      "--- Forecasting Future Spend for Each Cluster ---\n"
     ]
    },
    {
     "name": "stderr",
     "output_type": "stream",
     "text": [
      "c:\\Users\\satav\\AppData\\Local\\Programs\\Python\\Python310\\lib\\site-packages\\prophet\\forecaster.py:1872: FutureWarning:\n",
      "\n",
      "'M' is deprecated and will be removed in a future version, please use 'ME' instead.\n",
      "\n"
     ]
    },
    {
     "data": {
      "image/png": "[encoded data removed]",
      "text/plain": [
       "<Figure size 1000x600 with 1 Axes>"
      ]
     },
     "metadata": {},
     "output_type": "display_data"
    },
    {
     "name": "stderr",
     "output_type": "stream",
     "text": [
      "20:15:04 - cmdstanpy - INFO - Chain [1] start processing\n",
      "20:15:04 - cmdstanpy - INFO - Chain [1] done processing\n",
      "c:\\Users\\satav\\AppData\\Local\\Programs\\Python\\Python310\\lib\\site-packages\\prophet\\forecaster.py:1872: FutureWarning:\n",
      "\n",
      "'M' is deprecated and will be removed in a future version, please use 'ME' instead.\n",
      "\n"
     ]
    },
    {
     "data": {
      "image/png": "[encoded data removed]",
      "text/plain": [
       "<Figure size 1000x600 with 1 Axes>"
      ]
     },
     "metadata": {},
     "output_type": "display_data"
    }
   ],
   "source": [
    "# Install the forecasting library. You may need to restart the kernel after this.\n",
    "!pip install prophet\n",
    "import matplotlib.pyplot as plt\n",
    "from prophet import Prophet\n",
    "\n",
    "# --- Create a plot for each cluster's forecast ---\n",
    "print(\"\\n--- Forecasting Future Spend for Each Cluster ---\")\n",
    "\n",
    "# Get the unique cluster labels\n",
    "clusters = analysis_df['cluster'].unique()\n",
    "clusters.sort()\n",
    "\n",
    "for cluster_id in clusters:\n",
    "    # Get the historical data for this specific cluster\n",
    "    cluster_data = cluster_trends[cluster_trends['cluster'] == cluster_id]\n",
    "    \n",
    "    # 1. Prepare data for Prophet\n",
    "    prophet_df = cluster_data[['transaction_date', 'monetary']].rename(columns={\n",
    "        'transaction_date': 'ds',\n",
    "        'monetary': 'y'\n",
    "    })\n",
    "    \n",
    "    # 2. Train the Prophet model\n",
    "    model = Prophet()\n",
    "    model.fit(prophet_df)\n",
    "    \n",
    "    # 3. Create a dataframe for future predictions (next 6 months)\n",
    "    future = model.make_future_dataframe(periods=6, freq='M')\n",
    "    forecast = model.predict(future)\n",
    "    \n",
    "    # 4. Visualize the forecast\n",
    "    fig = model.plot(forecast, xlabel='Date', ylabel='Average Spend')\n",
    "    ax = fig.gca()\n",
    "    ax.set_title(f'Forecasted Average Spend for Cluster {cluster_id}', size=20)\n",
    "    ax.set_xlabel(\"Month\", size=15)\n",
    "    ax.set_ylabel(\"Average Spend\", size=15)\n",
    "    plt.show()"
   ]
  }
 ],
 "metadata": {
  "kernelspec": {
   "display_name": "Python 3",
   "language": "python",
   "name": "python3"
  },
  "language_info": {
   "codemirror_mode": {
    "name": "ipython",
    "version": 3
   },
   "file_extension": ".py",
   "mimetype": "text/x-python",
   "name": "python",
   "nbconvert_exporter": "python",
   "pygments_lexer": "ipython3",
   "version": "3.10.5"
  }
 },
 "nbformat": 4,
 "nbformat_minor": 5
}
